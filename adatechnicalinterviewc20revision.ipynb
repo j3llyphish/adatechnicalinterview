{
  "nbformat": 4,
  "nbformat_minor": 0,
  "metadata": {
    "colab": {
      "provenance": [],
      "authorship_tag": "ABX9TyM1BGkc+iVnDi3/tJ3WpEk+",
      "include_colab_link": true
    },
    "kernelspec": {
      "name": "python3",
      "display_name": "Python 3"
    },
    "language_info": {
      "name": "python"
    }
  },
  "cells": [
    {
      "cell_type": "markdown",
      "metadata": {
        "id": "view-in-github",
        "colab_type": "text"
      },
      "source": [
        "<a href=\"https://colab.research.google.com/github/j3llyphish/adatechnicalinterview/blob/main/adatechnicalinterviewc20revision.ipynb\" target=\"_parent\"><img src=\"https://colab.research.google.com/assets/colab-badge.svg\" alt=\"Open In Colab\"/></a>"
      ]
    },
    {
      "cell_type": "code",
      "execution_count": 32,
      "metadata": {
        "id": "sfDjo5Cu5nVQ",
        "colab": {
          "base_uri": "https://localhost:8080/"
        },
        "outputId": "1db71e68-ad24-40eb-c17a-e8dd255ac9fa"
      },
      "outputs": [
        {
          "output_type": "stream",
          "name": "stdout",
          "text": [
            "Not a number\n"
          ]
        }
      ],
      "source": [
        "import math\n",
        "\n",
        "carpet = {\n",
        "    \"berber\": 5.09,\n",
        "    \"texture\": 3.69,\n",
        "    \"pattern\": 2.89\n",
        "}\n",
        "\n",
        "carpetkeys = carpet.keys()\n",
        "\n",
        "\n",
        "addons = {\n",
        "    \"10yr warranty\": 100.00,\n",
        "    \"delivery\": 35.00,\n",
        "    \"installation\": 75.00,\n",
        "    \"stain guard\": 30.00\n",
        "}\n",
        "\n",
        "\n",
        "def calc_options(options):\n",
        "    price = 0\n",
        "    for i in options:\n",
        "      price += addons.get(i)\n",
        "    return price\n",
        "\n",
        "def carpet_quote_estimator(room, carpet_type, options, promo_code):\n",
        "    for i in room:\n",
        "      if i == int or i == float:\n",
        "        pass\n",
        "      else:\n",
        "        print(\"Not a number\")\n",
        "        return\n",
        "\n",
        "    if carpet_type in carpet.keys():\n",
        "      pass\n",
        "    else:\n",
        "      print(\"Not Valid\")\n",
        "      return\n",
        "\n",
        "    for i in options:\n",
        "      if i in addons.keys():\n",
        "        pass\n",
        "      else:\n",
        "        print(\"Not a Valid Option\")\n",
        "        return\n",
        "\n",
        "    room_size = room[0] * room[1]\n",
        "    room_quote = room_size * carpet[carpet_type]\n",
        "\n",
        "    room_quote += calc_options(options)\n",
        "\n",
        "    if promo_code == \"ADAROCKS\":\n",
        "        promo_code = 75.00\n",
        "    else:\n",
        "        promo_code = 0\n",
        "\n",
        "    price = room_quote - promo_code\n",
        "  \n",
        "    return print(f\"The cost is ${format(price,'.2f')}\")\n",
        "\n",
        "carpet_quote_estimator([\"four\", 5], \"berber\", [\"10yr warranty\", \"installation\"], \"\")"
      ]
    },
    {
      "cell_type": "code",
      "source": [],
      "metadata": {
        "id": "SEwqKYjSELkd"
      },
      "execution_count": null,
      "outputs": []
    }
  ]
}